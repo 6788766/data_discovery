{
 "cells": [
  {
   "cell_type": "code",
   "execution_count": 207,
   "id": "8b5aee82",
   "metadata": {},
   "outputs": [],
   "source": [
    "import os\n",
    "import pandas as pd\n",
    "from sklearn.ensemble import RandomForestRegressor\n",
    "from sklearn.model_selection import train_test_split\n",
    "from sklearn.preprocessing import LabelEncoder\n",
    "\n",
    "import warnings\n",
    "warnings.filterwarnings(\"ignore\")"
   ]
  },
  {
   "cell_type": "markdown",
   "id": "184fef77",
   "metadata": {},
   "source": [
    "# Universal Schema"
   ]
  },
  {
   "cell_type": "markdown",
   "id": "4b2d71c8",
   "metadata": {},
   "source": [
    "## Table-level Merge"
   ]
  },
  {
   "cell_type": "code",
   "execution_count": 110,
   "id": "ee81dcfe",
   "metadata": {},
   "outputs": [],
   "source": [
    "def same_name(col1, col2):\n",
    "    \"\"\"same_name(col1, col2) if col1 == col2 or col1 is part of col2, vice versa\"\"\"\n",
    "    same = (col1.lower() in col2.lower()) or (col1.lower() in col2.lower())\n",
    "\n",
    "    return same"
   ]
  },
  {
   "cell_type": "code",
   "execution_count": 111,
   "id": "85bf0ad8",
   "metadata": {},
   "outputs": [],
   "source": [
    "def col_equal(df1, df2, col1, col2, t_overlap=0.1):\n",
    "    \"\"\"col1 euqals col2: same_name(col1, col2) and overlap by at least 0.3.\"\"\"\n",
    "    if not same_name(col1, col2):\n",
    "        return False\n",
    "\n",
    "    val1 = df1[col1].dropna().unique()\n",
    "    val2 = df2[col2].dropna().unique()\n",
    "    overlap = len(set(val1) & set(val2)) / len(set(val1))\n",
    "\n",
    "    equal = overlap > t_overlap\n",
    "\n",
    "    return equal"
   ]
  },
  {
   "cell_type": "code",
   "execution_count": 124,
   "id": "44a6b896",
   "metadata": {},
   "outputs": [],
   "source": [
    "def merge_table(df_original, df_extra, target_column):\n",
    "    \"\"\"merge df_original and df_extra with conditions\"\"\"\n",
    "    include_target = False\n",
    "    for col in df_extra.columns:\n",
    "        if same_name(target_column, col):\n",
    "            include_target = True\n",
    "            break\n",
    "\n",
    "    merge_keys = list(set(df_original.columns.tolist()) & set(df_extra.columns.tolist()))\n",
    "    if include_target:\n",
    "        df_original = pd.merge(df_original, df_extra, how='outer', on=merge_keys)\n",
    "    else:\n",
    "        for col_o in df_original.select_dtypes(include=['object', 'category']).columns:\n",
    "            for col_e in df_extra.select_dtypes(include=['object', 'category']).columns:\n",
    "                if col_equal(df_original, df_extra, col_o, col_e, 0.7):\n",
    "                    df_original = pd.merge(df_original, df_extra, how='outer', on=merge_keys)\n",
    "                break\n",
    "    \n",
    "    df_original.dropna(axis=0, subset=[str(target_column)], inplace=True)\n",
    "\n",
    "    return df_original"
   ]
  },
  {
   "cell_type": "code",
   "execution_count": 197,
   "id": "0101079c",
   "metadata": {},
   "outputs": [
    {
     "data": {
      "text/plain": [
       "(4380, 14)"
      ]
     },
     "execution_count": 197,
     "metadata": {},
     "output_type": "execute_result"
    }
   ],
   "source": [
    "dataset = '../Dataset/Movie/'\n",
    "original_path = dataset + 'movie_original.csv'\n",
    "extra_path = dataset + 'extra'\n",
    "df_original = pd.read_csv(original_path)\n",
    "\n",
    "for file in os.listdir(extra_path):\n",
    "    if file.endswith('.csv'):\n",
    "        file_path = os.path.join(extra_path, file)\n",
    "        df_extra = pd.read_csv(file_path)\n",
    "\n",
    "        df_original = merge_table(df_original, df_extra, \"worldwide_gross\")\n",
    "        \n",
    "df_original.shape"
   ]
  },
  {
   "cell_type": "markdown",
   "id": "2d439ae0",
   "metadata": {},
   "source": [
    "## Row-level Clean"
   ]
  },
  {
   "cell_type": "code",
   "execution_count": 205,
   "id": "43f5e97a",
   "metadata": {},
   "outputs": [],
   "source": [
    "def row_clean(df, thr_null=0.5, iqr_factor=1.5):\n",
    "    # Remove rows with more than 50%(thr_null) missing values.\n",
    "    df_cleaned = df.dropna(thresh=df.shape[1] * thr_null, inplace=False)\n",
    "\n",
    "    # Remove rows with outliers by IQR method.\n",
    "\n",
    "    Q1 = df_cleaned.quantile(0.25)\n",
    "    Q3 = df_cleaned.quantile(0.75)\n",
    "    IQR = Q3 - Q1\n",
    "    df_cleaned = df_cleaned[~((df_cleaned < (Q1 - iqr_factor * IQR)) |\n",
    "                              (df_cleaned > (Q3 + iqr_factor * IQR))).any(axis=1)]\n",
    "\n",
    "    return df_cleaned"
   ]
  },
  {
   "cell_type": "code",
   "execution_count": 206,
   "id": "c59ae5d8",
   "metadata": {},
   "outputs": [
    {
     "data": {
      "text/plain": [
       "(3732, 14)"
      ]
     },
     "execution_count": 206,
     "metadata": {},
     "output_type": "execute_result"
    }
   ],
   "source": [
    "df_cleaned = row_clean(df_original, thr_null=0.5, iqr_factor=2)\n",
    "df_cleaned.shape"
   ]
  },
  {
   "cell_type": "markdown",
   "id": "9fe85c95",
   "metadata": {},
   "source": [
    "## Column-level Selection"
   ]
  },
  {
   "cell_type": "code",
   "execution_count": null,
   "id": "bb230862",
   "metadata": {},
   "outputs": [],
   "source": []
  }
 ],
 "metadata": {
  "kernelspec": {
   "display_name": "Python 3 (ipykernel)",
   "language": "python",
   "name": "python3"
  },
  "language_info": {
   "codemirror_mode": {
    "name": "ipython",
    "version": 3
   },
   "file_extension": ".py",
   "mimetype": "text/x-python",
   "name": "python",
   "nbconvert_exporter": "python",
   "pygments_lexer": "ipython3",
   "version": "3.9.13"
  }
 },
 "nbformat": 4,
 "nbformat_minor": 5
}
