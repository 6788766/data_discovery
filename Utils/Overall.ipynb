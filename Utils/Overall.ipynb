{
 "cells": [
  {
   "cell_type": "code",
   "execution_count": 10,
   "id": "79ed57fc",
   "metadata": {},
   "outputs": [],
   "source": [
    "import os\n",
    "import sys\n",
    "import pandas as pd\n",
    "import numpy as np\n",
    "from sklearn.feature_selection import SelectPercentile, f_classif, chi2\n",
    "from sklearn.preprocessing import LabelEncoder\n",
    "\n",
    "sys.path.append(\"../Trainer/\")\n",
    "import movie_gradient_boosting as mgb\n",
    "\n",
    "import warnings\n",
    "warnings.filterwarnings(\"ignore\")"
   ]
  },
  {
   "cell_type": "markdown",
   "id": "7bde6185",
   "metadata": {},
   "source": [
    "# Universal Schema"
   ]
  },
  {
   "cell_type": "markdown",
   "id": "4fa0dd54",
   "metadata": {},
   "source": [
    "## Table-level Merge"
   ]
  },
  {
   "cell_type": "code",
   "execution_count": 2,
   "id": "5ade7775",
   "metadata": {},
   "outputs": [],
   "source": [
    "def same_name(col1, col2):\n",
    "    \"\"\"same_name(col1, col2) if col1 == col2 or col1 is part of col2, vice versa\"\"\"\n",
    "    same = (col1.lower() in col2.lower()) or (col1.lower() in col2.lower())\n",
    "\n",
    "    return same"
   ]
  },
  {
   "cell_type": "code",
   "execution_count": 3,
   "id": "2555994c",
   "metadata": {},
   "outputs": [],
   "source": [
    "def col_equal(df1, df2, col1, col2, t_overlap=0.1):\n",
    "    \"\"\"col1 euqals col2: same_name(col1, col2) and overlap by at least 0.3.\"\"\"\n",
    "    if not same_name(col1, col2):\n",
    "        return False\n",
    "\n",
    "    val1 = df1[col1].dropna().unique()\n",
    "    val2 = df2[col2].dropna().unique()\n",
    "    overlap = len(set(val1) & set(val2)) / len(set(val1))\n",
    "\n",
    "    equal = overlap > t_overlap\n",
    "\n",
    "    return equal"
   ]
  },
  {
   "cell_type": "code",
   "execution_count": 4,
   "id": "b265bb86",
   "metadata": {},
   "outputs": [],
   "source": [
    "def merge_table(df_original, df_extra, target_column):\n",
    "    \"\"\"merge df_original and df_extra with conditions\"\"\"\n",
    "    include_target = False\n",
    "    for col in df_extra.columns:\n",
    "        if same_name(target_column, col):\n",
    "            include_target = True\n",
    "            break\n",
    "\n",
    "    merge_keys = list(set(df_original.columns.tolist()) & set(df_extra.columns.tolist()))\n",
    "    if include_target:\n",
    "        df_original = pd.merge(df_original, df_extra, how='outer', on=merge_keys)\n",
    "    else:\n",
    "        for col_o in df_original.select_dtypes(include=['object', 'category']).columns:\n",
    "            for col_e in df_extra.select_dtypes(include=['object', 'category']).columns:\n",
    "                if col_equal(df_original, df_extra, col_o, col_e, 0.7):\n",
    "                    df_original = pd.merge(df_original, df_extra, how='outer', on=merge_keys)\n",
    "                break\n",
    "    \n",
    "    df_original.dropna(axis=0, subset=[str(target_column)], inplace=True)\n",
    "\n",
    "    return df_original"
   ]
  },
  {
   "cell_type": "code",
   "execution_count": 5,
   "id": "ad1f31dd",
   "metadata": {},
   "outputs": [
    {
     "data": {
      "text/plain": [
       "(4380, 14)"
      ]
     },
     "execution_count": 5,
     "metadata": {},
     "output_type": "execute_result"
    }
   ],
   "source": [
    "dataset = '../Dataset/Movie/'\n",
    "original_path = dataset + 'processed/movie_original.csv'\n",
    "extra_path = dataset + 'extra'\n",
    "df_original = pd.read_csv(original_path)\n",
    "\n",
    "for file in os.listdir(extra_path):\n",
    "    if file.endswith('.csv'):\n",
    "        file_path = os.path.join(extra_path, file)\n",
    "        df_extra = pd.read_csv(file_path)\n",
    "\n",
    "        df_original = merge_table(df_original, df_extra, \"worldwide_gross\")\n",
    "        \n",
    "df_original.shape"
   ]
  },
  {
   "cell_type": "markdown",
   "id": "ef8777aa",
   "metadata": {},
   "source": [
    "## Row-level Clean"
   ]
  },
  {
   "cell_type": "code",
   "execution_count": 6,
   "id": "ba28b164",
   "metadata": {},
   "outputs": [],
   "source": [
    "def row_clean(df, thr_null=0.5, iqr_factor=1.5):\n",
    "    # Remove rows with more than 50%(thr_null) missing values.\n",
    "    df_cleaned = df.dropna(thresh=df.shape[1] * thr_null, inplace=False)\n",
    "\n",
    "    # Remove rows with outliers by IQR method.\n",
    "\n",
    "    Q1 = df_cleaned.quantile(0.25)\n",
    "    Q3 = df_cleaned.quantile(0.75)\n",
    "    IQR = Q3 - Q1\n",
    "    df_cleaned = df_cleaned[~((df_cleaned < (Q1 - iqr_factor * IQR)) |\n",
    "                              (df_cleaned > (Q3 + iqr_factor * IQR))).any(axis=1)]\n",
    "\n",
    "    return df_cleaned"
   ]
  },
  {
   "cell_type": "code",
   "execution_count": 7,
   "id": "3b4e60b9",
   "metadata": {},
   "outputs": [
    {
     "data": {
      "text/plain": [
       "(3732, 14)"
      ]
     },
     "execution_count": 7,
     "metadata": {},
     "output_type": "execute_result"
    }
   ],
   "source": [
    "df_cleaned = row_clean(df_original, thr_null=0.5, iqr_factor=2)\n",
    "df_cleaned.shape"
   ]
  },
  {
   "cell_type": "markdown",
   "id": "d2293ba8",
   "metadata": {},
   "source": [
    "## Column-level Selection"
   ]
  },
  {
   "cell_type": "code",
   "execution_count": 8,
   "id": "2b749ee5",
   "metadata": {},
   "outputs": [],
   "source": [
    "# Get selected numeric columns\n",
    "def col_numeric(X, y, percentile=90):\n",
    "    selector_f_classif = SelectPercentile(f_classif, percentile=percentile)\n",
    "    selector_f_classif.fit_transform(X, y)\n",
    "\n",
    "    num_cols = X.columns[selector_f_classif.get_support()]\n",
    "\n",
    "    return num_cols\n",
    "\n",
    "\n",
    "# Get selected categorical columns\n",
    "def col_categorical(X, y, percentile=80):\n",
    "    cat_encoded = X.apply(LabelEncoder().fit_transform)\n",
    "\n",
    "    selector_chi2 = SelectPercentile(chi2, percentile=percentile)\n",
    "    selector_chi2.fit_transform(cat_encoded, y)\n",
    "\n",
    "    cat_cols = X.columns[selector_chi2.get_support()]\n",
    "\n",
    "    return cat_cols"
   ]
  },
  {
   "cell_type": "code",
   "execution_count": 11,
   "id": "146ed368",
   "metadata": {},
   "outputs": [
    {
     "data": {
      "text/plain": [
       "(3732, 12)"
      ]
     },
     "execution_count": 11,
     "metadata": {},
     "output_type": "execute_result"
    }
   ],
   "source": [
    "df = pd.read_csv(dataset + 'processed/movie_cleaned.csv')\n",
    "categorical_cols = ['genres', 'director_professions', 'movie_title', 'director_name']\n",
    "df_num = mgb.preprocess_data(df.drop(categorical_cols, axis=1))\n",
    "\n",
    "X_num = df_num.drop(['worldwide_gross', 'gross_class'], axis=1)\n",
    "X_cat = df_cleaned[categorical_cols]\n",
    "y = df_num['gross_class']\n",
    "\n",
    "num_cols = col_numeric(X_num, y)\n",
    "cat_cols = col_categorical(X_cat, y)\n",
    "\n",
    "df_filtered = pd.concat([pd.DataFrame(df, columns=num_cols),\n",
    "                         pd.DataFrame(df, columns=cat_cols),\n",
    "                         pd.DataFrame(df, columns=['worldwide_gross']), ], axis=1)\n",
    "df_filtered.shape"
   ]
  },
  {
   "cell_type": "code",
   "execution_count": null,
   "id": "53bac152",
   "metadata": {},
   "outputs": [],
   "source": []
  }
 ],
 "metadata": {
  "kernelspec": {
   "display_name": "Python 3 (ipykernel)",
   "language": "python",
   "name": "python3"
  },
  "language_info": {
   "codemirror_mode": {
    "name": "ipython",
    "version": 3
   },
   "file_extension": ".py",
   "mimetype": "text/x-python",
   "name": "python",
   "nbconvert_exporter": "python",
   "pygments_lexer": "ipython3",
   "version": "3.10.11"
  }
 },
 "nbformat": 4,
 "nbformat_minor": 5
}
